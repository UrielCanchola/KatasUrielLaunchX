{
 "cells": [
  {
   "cell_type": "markdown",
   "metadata": {},
   "source": [
    "kata modulo 3"
   ]
  },
  {
   "cell_type": "code",
   "execution_count": 16,
   "metadata": {},
   "outputs": [
    {
     "name": "stdout",
     "output_type": "stream",
     "text": [
      "¡Sigue con tus actividades!\n"
     ]
    }
   ],
   "source": [
    "asteroide = int(input(' calcula tamaño del asteroide'))\n",
    "if asteroide > 25:\n",
    "    print('¡Alerta! ¡Un asteroide se acerca a velocidades peligrosas!')\n",
    "else:\n",
    "    print('¡Sigue con tus actividades!')"
   ]
  },
  {
   "cell_type": "code",
   "execution_count": 2,
   "metadata": {},
   "outputs": [
    {
     "name": "stdout",
     "output_type": "stream",
     "text": [
      "¡Que bonitas nubes!\n"
     ]
    }
   ],
   "source": [
    "asteroide = int(input(' calcula tamaño del asteroide'))\n",
    "if asteroide > 20:\n",
    "    print('Wow! ¡Hay una luz mágica en el cielo!')\n",
    "elif asteroide == 20:\n",
    "    print('Wow! ¡Hay una luz mágica en el cielo!')\n",
    "else:\n",
    "    print('¡Que bonitas nubes!')"
   ]
  },
  {
   "cell_type": "code",
   "execution_count": 17,
   "metadata": {},
   "outputs": [
    {
     "name": "stdout",
     "output_type": "stream",
     "text": [
      " Todo bien houston :)\n"
     ]
    }
   ],
   "source": [
    "velocidad_asteroide = int(input(' calcula velocidad del asteroide'))\n",
    "tamano_asteroide = int(input(' calcula tamaño del asteroide'))\n",
    "if velocidad_asteroide > 25 and tamano_asteroide > 25:\n",
    "    print('¡Alerta, Un asteroide muy peligroso viene hacia la Tierra!')\n",
    "elif velocidad_asteroide >= 20:\n",
    "    print('Look up! ¡Hay una luz mágica en el cielo!')\n",
    "elif tamano_asteroide < 25:\n",
    "    print(' Todo bien houston :)')\n",
    "else:\n",
    "    print(' todobien houston :)')"
   ]
  }
 ],
 "metadata": {
  "interpreter": {
   "hash": "92aa177d5adf5d71d97ac4443b373676aa89bd013aaa57210f57d29072ed15fd"
  },
  "kernelspec": {
   "display_name": "Python 3.8.6 64-bit",
   "language": "python",
   "name": "python3"
  },
  "language_info": {
   "codemirror_mode": {
    "name": "ipython",
    "version": 3
   },
   "file_extension": ".py",
   "mimetype": "text/x-python",
   "name": "python",
   "nbconvert_exporter": "python",
   "pygments_lexer": "ipython3",
   "version": "3.8.6"
  },
  "orig_nbformat": 4
 },
 "nbformat": 4,
 "nbformat_minor": 2
}
