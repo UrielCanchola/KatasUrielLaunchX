{
 "cells": [
  {
   "cell_type": "markdown",
   "metadata": {},
   "source": [
    "kata 5 "
   ]
  },
  {
   "cell_type": "code",
   "execution_count": 25,
   "metadata": {},
   "outputs": [
    {
     "name": "stdout",
     "output_type": "stream",
     "text": [
      "-628949330\n",
      "-390577533.93\n"
     ]
    }
   ],
   "source": [
    "tierra = 149597870\n",
    "jupiter = 778547200\n",
    "distancia = tierra - jupiter\n",
    "print(distancia)\n",
    "distancia_mi = distancia * 0.621\n",
    "print(distancia_mi)"
   ]
  },
  {
   "cell_type": "code",
   "execution_count": 29,
   "metadata": {},
   "outputs": [
    {
     "name": "stdout",
     "output_type": "stream",
     "text": [
      "-1355555\n",
      "826888.5499999999\n"
     ]
    }
   ],
   "source": [
    "planet_1 = input('ingresa primera distancia')\n",
    "planet_2 = input( 'ingresa segunda distancia')\n",
    "planet_1 = int(planet_1)\n",
    "planet_2 = int(planet_2)\n",
    "distance_km = planet_2 - planet_1 \n",
    "print(distance_km)\n",
    "distance_mi = distance_km * 0.61\n",
    "print(abs(distance_mi))"
   ]
  }
 ],
 "metadata": {
  "interpreter": {
   "hash": "92aa177d5adf5d71d97ac4443b373676aa89bd013aaa57210f57d29072ed15fd"
  },
  "kernelspec": {
   "display_name": "Python 3.8.6 64-bit",
   "language": "python",
   "name": "python3"
  },
  "language_info": {
   "codemirror_mode": {
    "name": "ipython",
    "version": 3
   },
   "file_extension": ".py",
   "mimetype": "text/x-python",
   "name": "python",
   "nbconvert_exporter": "python",
   "pygments_lexer": "ipython3",
   "version": "3.8.6"
  },
  "orig_nbformat": 4
 },
 "nbformat": 4,
 "nbformat_minor": 2
}
