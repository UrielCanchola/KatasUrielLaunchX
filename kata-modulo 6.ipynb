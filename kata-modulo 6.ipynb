{
 "cells": [
  {
   "cell_type": "markdown",
   "metadata": {},
   "source": [
    "kata 6"
   ]
  },
  {
   "cell_type": "code",
   "execution_count": 19,
   "metadata": {},
   "outputs": [
    {
     "name": "stdout",
     "output_type": "stream",
     "text": [
      "este es el numero de planetas 8\n",
      "pluto es el ultimo planeta\n"
     ]
    }
   ],
   "source": [
    "planets = ['mercury', 'venus', 'earth', 'mars', 'jupiter','saturn','uranus','neptune']\n",
    "print('este es el numero de planetas', len(planets))\n",
    "planets.append('pluto')\n",
    "print(planets[-1],'es el ultimo planeta')"
   ]
  },
  {
   "cell_type": "code",
   "execution_count": 18,
   "metadata": {},
   "outputs": [
    {
     "name": "stdout",
     "output_type": "stream",
     "text": [
      "aqui estan los planetas mas cercanos a Mars\n",
      "['Mercury', 'Venus', 'Earth']\n",
      "aqui estan los planeta mas lejanos a Mars\n",
      "['Jupiter', 'Saturn', 'Neptune']\n"
     ]
    }
   ],
   "source": [
    "planets = ['Mercury', 'Venus', 'Earth', 'Mars', 'Jupiter', 'Saturn', 'Neptune']\n",
    "user_planet = input('ingresa el nombre del planeta (with a capital letter to start)')\n",
    "planet_index = planets.index(user_planet)\n",
    "print('aqui estan los planetas mas cercanos a ' + user_planet)\n",
    "print(planets[0:planet_index])\n",
    "# Muestra los planetas más lejanos al sol\n",
    "print('aqui estan los planeta mas lejanos a ' + user_planet)\n",
    "print(planets[planet_index + 1:])"
   ]
  }
 ],
 "metadata": {
  "interpreter": {
   "hash": "92aa177d5adf5d71d97ac4443b373676aa89bd013aaa57210f57d29072ed15fd"
  },
  "kernelspec": {
   "display_name": "Python 3.8.6 64-bit",
   "language": "python",
   "name": "python3"
  },
  "language_info": {
   "codemirror_mode": {
    "name": "ipython",
    "version": 3
   },
   "file_extension": ".py",
   "mimetype": "text/x-python",
   "name": "python",
   "nbconvert_exporter": "python",
   "pygments_lexer": "ipython3",
   "version": "3.8.6"
  },
  "orig_nbformat": 4
 },
 "nbformat": 4,
 "nbformat_minor": 2
}
